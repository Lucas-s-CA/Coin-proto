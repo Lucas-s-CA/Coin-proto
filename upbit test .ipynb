{
 "cells": [
  {
   "cell_type": "code",
   "execution_count": 7,
   "id": "9dbf9e93-8985-4220-9cf7-493c80b9f635",
   "metadata": {},
   "outputs": [],
   "source": [
    "import pyupbit"
   ]
  },
  {
   "cell_type": "code",
   "execution_count": 8,
   "id": "66add05b-255e-4736-997a-ecea405c4026",
   "metadata": {},
   "outputs": [
    {
     "name": "stdout",
     "output_type": "stream",
     "text": [
      "['KRW-BTC', 'KRW-ETH', 'KRW-NEO', 'KRW-MTL', 'KRW-XRP', 'KRW-ETC', 'KRW-SNT', 'KRW-WAVES', 'KRW-XEM', 'KRW-QTUM', 'KRW-LSK', 'KRW-STEEM', 'KRW-XLM', 'KRW-ARDR', 'KRW-ARK', 'KRW-STORJ', 'KRW-GRS', 'KRW-ADA', 'KRW-SBD', 'KRW-POWR', 'KRW-ICX', 'KRW-EOS', 'KRW-TRX', 'KRW-SC', 'KRW-ONT', 'KRW-ZIL', 'KRW-POLYX', 'KRW-ZRX', 'KRW-LOOM', 'KRW-BCH', 'KRW-BAT', 'KRW-IOST', 'KRW-CVC', 'KRW-IQ', 'KRW-IOTA', 'KRW-HIFI', 'KRW-ONG', 'KRW-GAS', 'KRW-BOUNTY', 'KRW-ELF', 'KRW-KNC', 'KRW-BSV', 'KRW-THETA', 'KRW-QKC', 'KRW-BTT', 'KRW-MOC', 'KRW-TFUEL', 'KRW-MANA', 'KRW-ANKR', 'KRW-AERGO', 'KRW-ATOM', 'KRW-TT', 'KRW-GAME2', 'KRW-MBL', 'KRW-WAXP', 'KRW-HBAR', 'KRW-MED', 'KRW-MLK', 'KRW-STPT', 'KRW-ORBS', 'KRW-VET', 'KRW-CHZ', 'KRW-STMX', 'KRW-DKA', 'KRW-HIVE', 'KRW-KAVA', 'KRW-AHT', 'KRW-LINK', 'KRW-XTZ', 'KRW-BORA', 'KRW-JST', 'KRW-CRO', 'KRW-TOKAMAK', 'KRW-SXP', 'KRW-HUNT', 'KRW-DOT', 'KRW-MVL', 'KRW-STRAX', 'KRW-AQT', 'KRW-GLM', 'KRW-META', 'KRW-FCT2', 'KRW-CBK', 'KRW-SAND', 'KRW-HPO', 'KRW-DOGE', 'KRW-STRIKE', 'KRW-PUNDIX', 'KRW-FLOW', 'KRW-AXS', 'KRW-STX', 'KRW-XEC', 'KRW-SOL', 'KRW-POL', 'KRW-AAVE', 'KRW-1INCH', 'KRW-ALGO', 'KRW-NEAR', 'KRW-AVAX', 'KRW-T', 'KRW-CELO', 'KRW-GMT', 'KRW-APT', 'KRW-SHIB', 'KRW-MASK', 'KRW-ARB', 'KRW-EGLD', 'KRW-SUI', 'KRW-GRT', 'KRW-BLUR', 'KRW-IMX', 'KRW-SEI', 'KRW-MINA', 'KRW-CTC', 'KRW-ASTR', 'KRW-ID', 'KRW-PYTH', 'KRW-MNT', 'KRW-AKT', 'KRW-ZETA', 'KRW-AUCTION', 'KRW-STG', 'KRW-BEAM', 'KRW-TAIKO', 'KRW-USDT', 'KRW-ONDO', 'KRW-ZRO', 'KRW-BLAST', 'KRW-JUP', 'KRW-ENS', 'KRW-G', 'KRW-PENDLE', 'KRW-ATH', 'KRW-USDC', 'KRW-UXLINK', 'KRW-BIGTIME', 'KRW-CKB', 'KRW-W', 'KRW-CARV', 'KRW-INJ', 'KRW-MEW', 'KRW-UNI', 'KRW-SAFE', 'KRW-DRIFT', 'KRW-AGLD', 'KRW-PEPE', 'KRW-BONK', 'KRW-RENDER', 'KRW-MOVE', 'KRW-ME', 'KRW-MOCA', 'KRW-VANA', 'KRW-SONIC', 'KRW-VTHO', 'KRW-ANIME', 'KRW-VIRTUAL', 'KRW-BERA']\n"
     ]
    }
   ],
   "source": [
    "tickers = pyupbit.get_tickers(\"KRW\")\t# KRW를 통해 거래되는 코인만 불러오기\n",
    "print(tickers)"
   ]
  },
  {
   "cell_type": "code",
   "execution_count": 16,
   "id": "88a8db6c-7598-4625-bb59-ec6984fe2516",
   "metadata": {},
   "outputs": [
    {
     "name": "stdout",
     "output_type": "stream",
     "text": [
      "                            open         high          low        close  \\\n",
      "2025-02-09 23:35:00  147329000.0  147350000.0  147101000.0  147268000.0   \n",
      "2025-02-09 23:40:00  147268000.0  147270000.0  147100000.0  147100000.0   \n",
      "2025-02-09 23:45:00  147100000.0  147150000.0  147098000.0  147125000.0   \n",
      "2025-02-09 23:50:00  147125000.0  147127000.0  147118000.0  147121000.0   \n",
      "2025-02-09 23:55:00  147120000.0  147150000.0  147098000.0  147150000.0   \n",
      "...                          ...          ...          ...          ...   \n",
      "2025-02-10 15:50:00  147509000.0  147523000.0  147500000.0  147509000.0   \n",
      "2025-02-10 15:55:00  147509000.0  147509000.0  147420000.0  147439000.0   \n",
      "2025-02-10 16:00:00  147501000.0  147754000.0  147480000.0  147751000.0   \n",
      "2025-02-10 16:05:00  147751000.0  147758000.0  147731000.0  147740000.0   \n",
      "2025-02-10 16:10:00  147750000.0  147750000.0  147631000.0  147631000.0   \n",
      "\n",
      "                       volume         value  \n",
      "2025-02-09 23:35:00  8.838356  1.300968e+09  \n",
      "2025-02-09 23:40:00  3.648936  5.369690e+08  \n",
      "2025-02-09 23:45:00  5.664367  8.332721e+08  \n",
      "2025-02-09 23:50:00  5.423898  7.979754e+08  \n",
      "2025-02-09 23:55:00  5.300497  7.797693e+08  \n",
      "...                       ...           ...  \n",
      "2025-02-10 15:50:00  0.983976  1.451464e+08  \n",
      "2025-02-10 15:55:00  2.011250  2.965651e+08  \n",
      "2025-02-10 16:00:00  3.633704  5.364479e+08  \n",
      "2025-02-10 16:05:00  1.888245  2.789880e+08  \n",
      "2025-02-10 16:10:00  1.436565  2.121823e+08  \n",
      "\n",
      "[200 rows x 6 columns]\n"
     ]
    }
   ],
   "source": [
    "#5분봉 불러오기\n",
    "import pyupbit\n",
    "df=pyupbit.get_ohlcv(\"KRW-BTC\", \"minute5\")\n",
    "print(df)"
   ]
  },
  {
   "cell_type": "code",
   "execution_count": 17,
   "id": "4d30c514-3710-4a98-80bd-b23f861fc809",
   "metadata": {},
   "outputs": [],
   "source": [
    "# 로그인\n",
    "import pyupbit\n",
    "access = \"VxQaHeKakwLQtjt2gxzMrBgg3XwgVXjxecpWlUK1\"                         # Upbit API access 키\n",
    "secret = \"1xJkFBGgpkrQPfWjssWj3mEQqsxBmuxhhVGPrvlN\"                          # Upbit API secret 키"
   ]
  },
  {
   "cell_type": "code",
   "execution_count": 18,
   "id": "5934822b-83ec-4add-a066-0d3f11423dbe",
   "metadata": {},
   "outputs": [
    {
     "name": "stdout",
     "output_type": "stream",
     "text": [
      "Login COMPLETE\n",
      "====================================\n"
     ]
    }
   ],
   "source": [
    "try:\n",
    "  upbit = pyupbit.Upbit(access, secret)\n",
    "  print(\"Login COMPLETE\")\n",
    "  print(\"====================================\")\n",
    "except:\n",
    "  print(\"!!Login ERROR!!\")"
   ]
  },
  {
   "cell_type": "code",
   "execution_count": 19,
   "id": "38c88e3e-abc6-42a6-b98e-59534eabe075",
   "metadata": {},
   "outputs": [
    {
     "name": "stdout",
     "output_type": "stream",
     "text": [
      "None\n"
     ]
    }
   ],
   "source": [
    "def get_balance(ticker):\n",
    "      balances = upbit.get_balances()\n",
    "      for b in balances:\n",
    "          if ['currency'] == ticker:\n",
    "              if ['balance'] is not None:\n",
    "                  return float(b['balance'])\n",
    "              else:\n",
    "                  return 0\n",
    "print(get_balance('KRW'))"
   ]
  },
  {
   "cell_type": "code",
   "execution_count": 13,
   "id": "43e615aa-647c-47c4-9adc-e8bdd372ebf0",
   "metadata": {},
   "outputs": [
    {
     "name": "stdout",
     "output_type": "stream",
     "text": [
      "{'error': {'message': 'This is not a verified IP.', 'name': 'no_authorization_ip'}}\n",
      "{'error': {'name': 'no_authorization_ip', 'message': 'This is not a verified IP.'}}\n"
     ]
    }
   ],
   "source": [
    "#미체결 내용 확인  \n",
    "print(upbit.get_order(\"KRW-BTC\")) \n",
    "  \n",
    "#체결완료 내용 확인\n",
    "print(upbit.get_order(\"KRW-DOGE\", state = \"done\")) "
   ]
  },
  {
   "cell_type": "code",
   "execution_count": 11,
   "id": "198fd10b-ddec-45e9-8930-9ff12393cf4a",
   "metadata": {},
   "outputs": [
    {
     "name": "stdout",
     "output_type": "stream",
     "text": [
      "UpbitError\n",
      "None\n"
     ]
    }
   ],
   "source": [
    "#주문취소\n",
    "print(upbit.cancel_order('c54fa8-056b-4b14-aaa-3c6e9d56dcb'))"
   ]
  },
  {
   "cell_type": "code",
   "execution_count": 12,
   "id": "162672ff-311e-4bea-a6a3-d7a518ee0725",
   "metadata": {},
   "outputs": [
    {
     "name": "stdout",
     "output_type": "stream",
     "text": [
      "InsufficientFundsAsk\n",
      "None\n",
      "InsufficientFundsBid\n",
      "None\n",
      "InsufficientFundsBid\n",
      "None\n",
      "InsufficientFundsAsk\n",
      "None\n"
     ]
    }
   ],
   "source": [
    "#지정가 주문, 시장가 주문 #시장가는 금액단위, 지정가는 개수단위\n",
    "print(upbit.sell_limit_order(\"KRW-XRP\", 800, 20)) # 지정가 매도 (리플, 800원, 20개)\n",
    "print(upbit.buy_limit_order(\"KRW-XRP\", 800, 10)) # 지정가 매수 (리플, 800원, 10개) \n",
    "print(upbit.buy_market_order(\"KRW-XRP\", 10000)) # 시장가 매수 (리플, 10,000원 매수)  \n",
    "print(upbit.sell_market_order(\"KRW-XRP\", 30)) # 시장가 매도 (리플, 30개 매도)"
   ]
  },
  {
   "cell_type": "code",
   "execution_count": 18,
   "id": "76a22b09-a47d-4591-8484-32b1319ce777",
   "metadata": {},
   "outputs": [
    {
     "ename": "SyntaxError",
     "evalue": "invalid syntax (1783686808.py, line 1)",
     "output_type": "error",
     "traceback": [
      "\u001b[0;36m  Cell \u001b[0;32mIn[18], line 1\u001b[0;36m\u001b[0m\n\u001b[0;31m    def buy('KRW-BTC', 100):\u001b[0m\n\u001b[0m            ^\u001b[0m\n\u001b[0;31mSyntaxError\u001b[0m\u001b[0;31m:\u001b[0m invalid syntax\n"
     ]
    }
   ],
   "source": [
    "def buy('KRW-BTC', 100):\n",
    "    time.sleep(0.1)\n",
    "    b = upbit.buy_market_order(KRW-BTC, 100)\n",
    "    try:\n",
    "        if b['error']:\n",
    "            b = upbit.buy_market_order('KRW-BTC', 100)\n",
    "            msg = \"error \" + str(KRW-BTC)+\" \"+str(100)+\"원 매수시도\"+\"\\n\"+json.dumps(b, ensure_ascii = False)\n",
    "    except:\n",
    "        msg = str('KRW-BTC')+\" \"+str(100)+\"원 매수완료\"+\"\\n\"+json.dumps(b, ensure_ascii = False)\n",
    "    print(msg)"
   ]
  },
  {
   "cell_type": "code",
   "execution_count": null,
   "id": "b1526d39-fad8-49b6-ba23-5f0d7e798e70",
   "metadata": {},
   "outputs": [],
   "source": []
  }
 ],
 "metadata": {
  "kernelspec": {
   "display_name": "Python 3 (ipykernel)",
   "language": "python",
   "name": "python3"
  },
  "language_info": {
   "codemirror_mode": {
    "name": "ipython",
    "version": 3
   },
   "file_extension": ".py",
   "mimetype": "text/x-python",
   "name": "python",
   "nbconvert_exporter": "python",
   "pygments_lexer": "ipython3",
   "version": "3.10.4"
  }
 },
 "nbformat": 4,
 "nbformat_minor": 5
}
