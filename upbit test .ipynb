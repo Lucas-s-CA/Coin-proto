{
 "cells": [
  {
   "cell_type": "code",
   "execution_count": 2,
   "id": "9dbf9e93-8985-4220-9cf7-493c80b9f635",
   "metadata": {},
   "outputs": [],
   "source": [
    "import pyupbit"
   ]
  },
  {
   "cell_type": "code",
   "execution_count": 3,
   "id": "66add05b-255e-4736-997a-ecea405c4026",
   "metadata": {},
   "outputs": [
    {
     "name": "stdout",
     "output_type": "stream",
     "text": [
      "['KRW-BTC', 'KRW-ETH', 'KRW-NEO', 'KRW-MTL', 'KRW-XRP', 'KRW-ETC', 'KRW-SNT', 'KRW-WAVES', 'KRW-XEM', 'KRW-QTUM', 'KRW-LSK', 'KRW-STEEM', 'KRW-XLM', 'KRW-ARDR', 'KRW-ARK', 'KRW-STORJ', 'KRW-GRS', 'KRW-ADA', 'KRW-SBD', 'KRW-POWR', 'KRW-ICX', 'KRW-EOS', 'KRW-TRX', 'KRW-SC', 'KRW-ONT', 'KRW-ZIL', 'KRW-POLYX', 'KRW-ZRX', 'KRW-LOOM', 'KRW-BCH', 'KRW-BAT', 'KRW-IOST', 'KRW-CVC', 'KRW-IQ', 'KRW-IOTA', 'KRW-HIFI', 'KRW-ONG', 'KRW-GAS', 'KRW-BOUNTY', 'KRW-ELF', 'KRW-KNC', 'KRW-BSV', 'KRW-THETA', 'KRW-QKC', 'KRW-BTT', 'KRW-MOC', 'KRW-TFUEL', 'KRW-MANA', 'KRW-ANKR', 'KRW-AERGO', 'KRW-ATOM', 'KRW-TT', 'KRW-GAME2', 'KRW-MBL', 'KRW-WAXP', 'KRW-HBAR', 'KRW-MED', 'KRW-MLK', 'KRW-STPT', 'KRW-ORBS', 'KRW-VET', 'KRW-CHZ', 'KRW-STMX', 'KRW-DKA', 'KRW-HIVE', 'KRW-KAVA', 'KRW-AHT', 'KRW-LINK', 'KRW-XTZ', 'KRW-BORA', 'KRW-JST', 'KRW-CRO', 'KRW-TOKAMAK', 'KRW-SXP', 'KRW-HUNT', 'KRW-DOT', 'KRW-MVL', 'KRW-STRAX', 'KRW-AQT', 'KRW-GLM', 'KRW-META', 'KRW-FCT2', 'KRW-CBK', 'KRW-SAND', 'KRW-HPO', 'KRW-DOGE', 'KRW-STRIKE', 'KRW-PUNDIX', 'KRW-FLOW', 'KRW-AXS', 'KRW-STX', 'KRW-XEC', 'KRW-SOL', 'KRW-POL', 'KRW-AAVE', 'KRW-1INCH', 'KRW-ALGO', 'KRW-NEAR', 'KRW-AVAX', 'KRW-T', 'KRW-CELO', 'KRW-GMT', 'KRW-APT', 'KRW-SHIB', 'KRW-MASK', 'KRW-ARB', 'KRW-EGLD', 'KRW-SUI', 'KRW-GRT', 'KRW-BLUR', 'KRW-IMX', 'KRW-SEI', 'KRW-MINA', 'KRW-CTC', 'KRW-ASTR', 'KRW-ID', 'KRW-PYTH', 'KRW-MNT', 'KRW-AKT', 'KRW-ZETA', 'KRW-AUCTION', 'KRW-STG', 'KRW-BEAM', 'KRW-TAIKO', 'KRW-USDT', 'KRW-ONDO', 'KRW-ZRO', 'KRW-BLAST', 'KRW-JUP', 'KRW-ENS', 'KRW-G', 'KRW-PENDLE', 'KRW-ATH', 'KRW-USDC', 'KRW-UXLINK', 'KRW-BIGTIME', 'KRW-CKB', 'KRW-W', 'KRW-CARV', 'KRW-INJ', 'KRW-MEW', 'KRW-UNI', 'KRW-SAFE', 'KRW-DRIFT', 'KRW-AGLD', 'KRW-PEPE', 'KRW-BONK', 'KRW-RENDER', 'KRW-MOVE', 'KRW-ME', 'KRW-MOCA', 'KRW-VANA', 'KRW-SONIC', 'KRW-VTHO', 'KRW-ANIME', 'KRW-VIRTUAL']\n"
     ]
    }
   ],
   "source": [
    "tickers = pyupbit.get_tickers(\"KRW\")\t# KRW를 통해 거래되는 코인만 불러오기\n",
    "print(tickers)"
   ]
  },
  {
   "cell_type": "code",
   "execution_count": 5,
   "id": "88a8db6c-7598-4625-bb59-ec6984fe2516",
   "metadata": {},
   "outputs": [
    {
     "name": "stdout",
     "output_type": "stream",
     "text": [
      "                      open   high    low  close        volume         value\n",
      "2025-02-02 04:50:00  489.0  490.6  489.0  489.9  7.610210e+05  3.728858e+08\n",
      "2025-02-02 04:55:00  489.7  490.5  489.0  490.5  6.498927e+05  3.182844e+08\n",
      "2025-02-02 05:00:00  490.4  490.5  488.7  488.9  1.107007e+06  5.418140e+08\n",
      "2025-02-02 05:05:00  488.9  490.5  488.0  489.4  2.628230e+06  1.283450e+09\n",
      "2025-02-02 05:10:00  490.1  490.5  488.4  488.8  5.658966e+05  2.769437e+08\n",
      "...                    ...    ...    ...    ...           ...           ...\n",
      "2025-02-02 21:05:00  460.2  461.9  459.4  461.8  4.031763e+06  1.857372e+09\n",
      "2025-02-02 21:10:00  461.9  462.5  460.8  461.9  2.623436e+06  1.211287e+09\n",
      "2025-02-02 21:15:00  461.9  462.4  460.3  461.1  2.396030e+06  1.105603e+09\n",
      "2025-02-02 21:20:00  461.1  461.8  460.0  461.4  1.913995e+06  8.813901e+08\n",
      "2025-02-02 21:25:00  461.4  461.9  461.3  461.7  6.802109e+04  3.140184e+07\n",
      "\n",
      "[200 rows x 6 columns]\n"
     ]
    }
   ],
   "source": [
    "#5분봉 불러오기\n",
    "import pyupbit\n",
    "df=pyupbit.get_ohlcv(\"KRW-DOGE\", \"minute5\")\n",
    "print(df)"
   ]
  },
  {
   "cell_type": "code",
   "execution_count": 6,
   "id": "4d30c514-3710-4a98-80bd-b23f861fc809",
   "metadata": {},
   "outputs": [],
   "source": [
    "# 로그인\n",
    "import pyupbit\n",
    "access = \"VxQaHeKakwLQtjt2gxzMrBgg3XwgVXjxecpWlUK1\"                         # Upbit API access 키\n",
    "secret = \"1xJkFBGgpkrQPfWjssWj3mEQqsxBmuxhhVGPrvlN\"                          # Upbit API secret 키"
   ]
  },
  {
   "cell_type": "code",
   "execution_count": 7,
   "id": "5934822b-83ec-4add-a066-0d3f11423dbe",
   "metadata": {},
   "outputs": [
    {
     "name": "stdout",
     "output_type": "stream",
     "text": [
      "Login COMPLETE\n",
      "====================================\n"
     ]
    }
   ],
   "source": [
    "try:\n",
    "  upbit = pyupbit.Upbit(access, secret)\n",
    "  print(\"Login COMPLETE\")\n",
    "  print(\"====================================\")\n",
    "except:\n",
    "  print(\"!!Login ERROR!!\")"
   ]
  },
  {
   "cell_type": "code",
   "execution_count": 8,
   "id": "38c88e3e-abc6-42a6-b98e-59534eabe075",
   "metadata": {},
   "outputs": [
    {
     "name": "stdout",
     "output_type": "stream",
     "text": [
      "0.99220527\n"
     ]
    }
   ],
   "source": [
    "# 내 잔고 조회_시작\n",
    "def get_balance(ticker):\n",
    "      balances = upbit.get_balances()\n",
    "      for b in balances:\n",
    "          if b['currency'] == ticker:\n",
    "              if b['balance'] is not None:\n",
    "                  return float(b['balance'])\n",
    "              else:\n",
    "                  return 0\n",
    "print(get_balance('KRW'))"
   ]
  },
  {
   "cell_type": "code",
   "execution_count": 10,
   "id": "43e615aa-647c-47c4-9adc-e8bdd372ebf0",
   "metadata": {},
   "outputs": [
    {
     "name": "stdout",
     "output_type": "stream",
     "text": [
      "[]\n",
      "[{'uuid': '096be239-9dce-4511-b262-edbd36fbfbfa', 'side': 'ask', 'ord_type': 'limit', 'price': '504.6', 'avg_price': '504.3477', 'state': 'done', 'market': 'KRW-DOGE', 'created_at': '2025-01-31T16:36:38+09:00', 'volume': '1309.82321906', 'remaining_volume': '0', 'reserved_fee': '0', 'remaining_fee': '0', 'paid_fee': '330.468398168838', 'locked': '0', 'executed_volume': '1309.82321906', 'trades_count': 1, 'application_name': 'ios', 'thirdparty': False, 'is_cancel_and_newable': True}, {'uuid': '72c971c3-a7fb-4355-9450-4804b931d817', 'side': 'ask', 'ord_type': 'limit', 'price': '543.8', 'avg_price': '543.5281', 'state': 'done', 'market': 'KRW-DOGE', 'created_at': '2025-01-22T20:05:40+09:00', 'volume': '100', 'remaining_volume': '0', 'reserved_fee': '0', 'remaining_fee': '0', 'paid_fee': '27.19', 'locked': '0', 'executed_volume': '100', 'trades_count': 1, 'application_name': 'ios', 'thirdparty': False, 'is_cancel_and_newable': True}, {'uuid': '7ad0821f-66b8-49a2-9ca3-23c1a81b9e7a', 'side': 'bid', 'ord_type': 'limit', 'price': '551', 'avg_price': '551.2755', 'state': 'done', 'market': 'KRW-DOGE', 'created_at': '2025-01-20T16:23:02+09:00', 'volume': '1409.82321906', 'remaining_volume': '0', 'reserved_fee': '388.40629685103', 'remaining_fee': '0', 'paid_fee': '388.40629685103', 'locked': '0', 'executed_volume': '1409.82321906', 'trades_count': 1, 'application_name': 'ios', 'thirdparty': False, 'is_cancel_and_newable': True}, {'uuid': 'e8c51e0b-b26c-4fbc-bdfb-6987aca70756', 'side': 'ask', 'ord_type': 'limit', 'price': '624.9', 'avg_price': '624.58755', 'state': 'done', 'market': 'KRW-DOGE', 'created_at': '2025-01-17T20:44:12+09:00', 'volume': '1138.93985762', 'remaining_volume': '0', 'reserved_fee': '0', 'remaining_fee': '0', 'paid_fee': '355.861758513369', 'locked': '0', 'executed_volume': '1138.93985762', 'trades_count': 1, 'application_name': 'ios', 'thirdparty': False, 'is_cancel_and_newable': True}, {'uuid': '9a3ed778-dad9-47cf-84d1-38b8e4cacb45', 'side': 'ask', 'ord_type': 'limit', 'price': '516', 'avg_price': '515.742', 'state': 'done', 'market': 'KRW-DOGE', 'created_at': '2025-01-14T14:29:28+09:00', 'volume': '126.54887306', 'remaining_volume': '0', 'reserved_fee': '0', 'remaining_fee': '0', 'paid_fee': '32.64960924948', 'locked': '0', 'executed_volume': '126.54887306', 'trades_count': 1, 'application_name': 'ios', 'thirdparty': False, 'is_cancel_and_newable': True}, {'uuid': 'ed6c2c04-7a11-4006-b875-41c0f557020e', 'side': 'bid', 'ord_type': 'limit', 'price': '461', 'avg_price': '461.2305', 'state': 'done', 'market': 'KRW-DOGE', 'created_at': '2024-12-27T09:00:12+09:00', 'volume': '1265.48873068', 'remaining_volume': '0', 'reserved_fee': '291.69515242174', 'remaining_fee': '0', 'paid_fee': '291.69515242174', 'locked': '0', 'executed_volume': '1265.48873068', 'trades_count': 1, 'application_name': 'ios', 'thirdparty': False, 'is_cancel_and_newable': True}]\n"
     ]
    }
   ],
   "source": [
    "#미체결 내용 확인  \n",
    "print(upbit.get_order(\"KRW-BTC\")) \n",
    "  \n",
    "#체결완료 내용 확인\n",
    "print(upbit.get_order(\"KRW-DOGE\", state = \"done\")) "
   ]
  },
  {
   "cell_type": "code",
   "execution_count": 11,
   "id": "198fd10b-ddec-45e9-8930-9ff12393cf4a",
   "metadata": {},
   "outputs": [
    {
     "name": "stdout",
     "output_type": "stream",
     "text": [
      "UpbitError\n",
      "None\n"
     ]
    }
   ],
   "source": [
    "#주문취소\n",
    "print(upbit.cancel_order('c54fa8-056b-4b14-aaa-3c6e9d56dcb'))"
   ]
  },
  {
   "cell_type": "code",
   "execution_count": 12,
   "id": "162672ff-311e-4bea-a6a3-d7a518ee0725",
   "metadata": {},
   "outputs": [
    {
     "name": "stdout",
     "output_type": "stream",
     "text": [
      "InsufficientFundsAsk\n",
      "None\n",
      "InsufficientFundsBid\n",
      "None\n",
      "InsufficientFundsBid\n",
      "None\n",
      "InsufficientFundsAsk\n",
      "None\n"
     ]
    }
   ],
   "source": [
    "#지정가 주문, 시장가 주문 #시장가는 금액단위, 지정가는 개수단위\n",
    "print(upbit.sell_limit_order(\"KRW-XRP\", 800, 20)) # 지정가 매도 (리플, 800원, 20개)\n",
    "print(upbit.buy_limit_order(\"KRW-XRP\", 800, 10)) # 지정가 매수 (리플, 800원, 10개) \n",
    "print(upbit.buy_market_order(\"KRW-XRP\", 10000)) # 시장가 매수 (리플, 10,000원 매수)  \n",
    "print(upbit.sell_market_order(\"KRW-XRP\", 30)) # 시장가 매도 (리플, 30개 매도)"
   ]
  },
  {
   "cell_type": "code",
   "execution_count": 18,
   "id": "76a22b09-a47d-4591-8484-32b1319ce777",
   "metadata": {},
   "outputs": [
    {
     "ename": "SyntaxError",
     "evalue": "invalid syntax (1783686808.py, line 1)",
     "output_type": "error",
     "traceback": [
      "\u001b[0;36m  Cell \u001b[0;32mIn[18], line 1\u001b[0;36m\u001b[0m\n\u001b[0;31m    def buy('KRW-BTC', 100):\u001b[0m\n\u001b[0m            ^\u001b[0m\n\u001b[0;31mSyntaxError\u001b[0m\u001b[0;31m:\u001b[0m invalid syntax\n"
     ]
    }
   ],
   "source": [
    "def buy('KRW-BTC', 100):\n",
    "    time.sleep(0.1)\n",
    "    b = upbit.buy_market_order(KRW-BTC, 100)\n",
    "    try:\n",
    "        if b['error']:\n",
    "            b = upbit.buy_market_order('KRW-BTC', 100)\n",
    "            msg = \"error \" + str(KRW-BTC)+\" \"+str(100)+\"원 매수시도\"+\"\\n\"+json.dumps(b, ensure_ascii = False)\n",
    "    except:\n",
    "        msg = str('KRW-BTC')+\" \"+str(100)+\"원 매수완료\"+\"\\n\"+json.dumps(b, ensure_ascii = False)\n",
    "    print(msg)"
   ]
  },
  {
   "cell_type": "code",
   "execution_count": null,
   "id": "b1526d39-fad8-49b6-ba23-5f0d7e798e70",
   "metadata": {},
   "outputs": [],
   "source": []
  }
 ],
 "metadata": {
  "kernelspec": {
   "display_name": "Python 3 (ipykernel)",
   "language": "python",
   "name": "python3"
  },
  "language_info": {
   "codemirror_mode": {
    "name": "ipython",
    "version": 3
   },
   "file_extension": ".py",
   "mimetype": "text/x-python",
   "name": "python",
   "nbconvert_exporter": "python",
   "pygments_lexer": "ipython3",
   "version": "3.10.12"
  }
 },
 "nbformat": 4,
 "nbformat_minor": 5
}
